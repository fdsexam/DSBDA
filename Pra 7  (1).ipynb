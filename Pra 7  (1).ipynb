{
 "cells": [
  {
   "cell_type": "code",
   "execution_count": 45,
   "id": "2ac50779",
   "metadata": {},
   "outputs": [],
   "source": [
    "import nltk"
   ]
  },
  {
   "cell_type": "code",
   "execution_count": 3,
   "id": "549b087e",
   "metadata": {},
   "outputs": [
    {
     "name": "stderr",
     "output_type": "stream",
     "text": [
      "[nltk_data] Downloading package stopwords to\n",
      "[nltk_data]     C:\\Users\\nikhil\\AppData\\Roaming\\nltk_data...\n",
      "[nltk_data]   Unzipping corpora\\stopwords.zip.\n"
     ]
    },
    {
     "data": {
      "text/plain": [
       "True"
      ]
     },
     "execution_count": 3,
     "metadata": {},
     "output_type": "execute_result"
    }
   ],
   "source": [
    "nltk.download(\"stopwords\")"
   ]
  },
  {
   "cell_type": "code",
   "execution_count": 4,
   "id": "c72baa51",
   "metadata": {},
   "outputs": [
    {
     "name": "stderr",
     "output_type": "stream",
     "text": [
      "[nltk_data] Downloading package punkt to\n",
      "[nltk_data]     C:\\Users\\nikhil\\AppData\\Roaming\\nltk_data...\n",
      "[nltk_data]   Unzipping tokenizers\\punkt.zip.\n"
     ]
    },
    {
     "data": {
      "text/plain": [
       "True"
      ]
     },
     "execution_count": 4,
     "metadata": {},
     "output_type": "execute_result"
    }
   ],
   "source": [
    "nltk.download(\"punkt\")"
   ]
  },
  {
   "cell_type": "code",
   "execution_count": 31,
   "id": "5b19a8ae",
   "metadata": {},
   "outputs": [
    {
     "name": "stderr",
     "output_type": "stream",
     "text": [
      "[nltk_data] Downloading package averaged_perceptron_tagger to\n",
      "[nltk_data]     C:\\Users\\nikhil\\AppData\\Roaming\\nltk_data...\n",
      "[nltk_data]   Package averaged_perceptron_tagger is already up-to-\n",
      "[nltk_data]       date!\n"
     ]
    },
    {
     "data": {
      "text/plain": [
       "True"
      ]
     },
     "execution_count": 31,
     "metadata": {},
     "output_type": "execute_result"
    }
   ],
   "source": [
    "nltk.download('averaged_perceptron_tagger')"
   ]
  },
  {
   "cell_type": "code",
   "execution_count": 32,
   "id": "37f20888-ae72-458a-aadb-2e264c71c7f8",
   "metadata": {},
   "outputs": [
    {
     "name": "stderr",
     "output_type": "stream",
     "text": [
      "[nltk_data] Downloading package wordnet to\n",
      "[nltk_data]     C:\\Users\\nikhil\\AppData\\Roaming\\nltk_data...\n"
     ]
    },
    {
     "data": {
      "text/plain": [
       "True"
      ]
     },
     "execution_count": 32,
     "metadata": {},
     "output_type": "execute_result"
    }
   ],
   "source": [
    "nltk.download('wordnet')"
   ]
  },
  {
   "cell_type": "markdown",
   "id": "12f30b43",
   "metadata": {},
   "source": [
    "# Tokenization \n"
   ]
  },
  {
   "cell_type": "markdown",
   "id": "048a52c5",
   "metadata": {},
   "source": [
    "Tokenization is the process of breaking down a text into smaller units"
   ]
  },
  {
   "cell_type": "code",
   "execution_count": 6,
   "id": "18cd0953",
   "metadata": {},
   "outputs": [],
   "source": [
    "from nltk import word_tokenize, sent_tokenize"
   ]
  },
  {
   "cell_type": "code",
   "execution_count": 7,
   "id": "785426a3",
   "metadata": {},
   "outputs": [],
   "source": [
    "text = \"Sachin was the GOAT of the previous generation. virat is the GOAT of this generation. Shubman will be the GOAT of next Generation\""
   ]
  },
  {
   "cell_type": "code",
   "execution_count": 8,
   "id": "d984d4bf",
   "metadata": {},
   "outputs": [
    {
     "data": {
      "text/plain": [
       "'Sachin was the GOAT of the previous generation. virat is the GOAT of this generation. Shubman will be the GOAT of next Generation'"
      ]
     },
     "execution_count": 8,
     "metadata": {},
     "output_type": "execute_result"
    }
   ],
   "source": [
    "text"
   ]
  },
  {
   "cell_type": "code",
   "execution_count": 9,
   "id": "475e758b",
   "metadata": {},
   "outputs": [
    {
     "name": "stdout",
     "output_type": "stream",
     "text": [
      "['Sachin', 'was', 'the', 'GOAT', 'of', 'the', 'previous', 'generation', '.', 'virat', 'is', 'the', 'GOAT', 'of', 'this', 'generation', '.', 'Shubman', 'will', 'be', 'the', 'GOAT', 'of', 'next', 'Generation']\n"
     ]
    }
   ],
   "source": [
    "print(word_tokenize(text))"
   ]
  },
  {
   "cell_type": "code",
   "execution_count": 10,
   "id": "46a9d18b",
   "metadata": {},
   "outputs": [
    {
     "name": "stdout",
     "output_type": "stream",
     "text": [
      "['Sachin was the GOAT of the previous generation.', 'virat is the GOAT of this generation.', 'Shubman will be the GOAT of next Generation']\n"
     ]
    }
   ],
   "source": [
    "print(sent_tokenize(text))"
   ]
  },
  {
   "cell_type": "markdown",
   "id": "59315257",
   "metadata": {},
   "source": [
    "# POS tagging (Part-of-Speech tagging)"
   ]
  },
  {
   "cell_type": "markdown",
   "id": "d06ec4ad",
   "metadata": {},
   "source": []
  },
  {
   "cell_type": "code",
   "execution_count": 11,
   "id": "7ae7bc71",
   "metadata": {},
   "outputs": [],
   "source": [
    "from nltk import pos_tag"
   ]
  },
  {
   "cell_type": "code",
   "execution_count": 12,
   "id": "52abd28b",
   "metadata": {},
   "outputs": [
    {
     "data": {
      "text/plain": [
       "['Sachin',\n",
       " 'was',\n",
       " 'the',\n",
       " 'GOAT',\n",
       " 'of',\n",
       " 'the',\n",
       " 'previous',\n",
       " 'generation',\n",
       " '.',\n",
       " 'virat',\n",
       " 'is',\n",
       " 'the',\n",
       " 'GOAT',\n",
       " 'of',\n",
       " 'this',\n",
       " 'generation',\n",
       " '.',\n",
       " 'Shubman',\n",
       " 'will',\n",
       " 'be',\n",
       " 'the',\n",
       " 'GOAT',\n",
       " 'of',\n",
       " 'next',\n",
       " 'Generation']"
      ]
     },
     "execution_count": 12,
     "metadata": {},
     "output_type": "execute_result"
    }
   ],
   "source": [
    "tokenize_word = word_tokenize(text)\n",
    "tokenize_word"
   ]
  },
  {
   "cell_type": "code",
   "execution_count": 13,
   "id": "3c4bb19c",
   "metadata": {},
   "outputs": [
    {
     "name": "stdout",
     "output_type": "stream",
     "text": [
      "[('Sachin', 'NNP'), ('was', 'VBD'), ('the', 'DT'), ('GOAT', 'NNP'), ('of', 'IN'), ('the', 'DT'), ('previous', 'JJ'), ('generation', 'NN'), ('.', '.'), ('virat', 'NN'), ('is', 'VBZ'), ('the', 'DT'), ('GOAT', 'NNP'), ('of', 'IN'), ('this', 'DT'), ('generation', 'NN'), ('.', '.'), ('Shubman', 'NNP'), ('will', 'MD'), ('be', 'VB'), ('the', 'DT'), ('GOAT', 'NNP'), ('of', 'IN'), ('next', 'JJ'), ('Generation', 'NN')]\n"
     ]
    }
   ],
   "source": [
    "print(pos_tag(tokenize_word))"
   ]
  },
  {
   "cell_type": "markdown",
   "id": "9f34b624",
   "metadata": {},
   "source": [
    "## Stopword removal "
   ]
  },
  {
   "cell_type": "code",
   "execution_count": 14,
   "id": "e246a14e",
   "metadata": {},
   "outputs": [],
   "source": [
    "from nltk.corpus import stopwords"
   ]
  },
  {
   "cell_type": "code",
   "execution_count": 15,
   "id": "af123fc9",
   "metadata": {},
   "outputs": [],
   "source": [
    "stop_words = set(stopwords.words('english'))"
   ]
  },
  {
   "cell_type": "code",
   "execution_count": 16,
   "id": "503b0114",
   "metadata": {},
   "outputs": [
    {
     "data": {
      "text/plain": [
       "{'a',\n",
       " 'about',\n",
       " 'above',\n",
       " 'after',\n",
       " 'again',\n",
       " 'against',\n",
       " 'ain',\n",
       " 'all',\n",
       " 'am',\n",
       " 'an',\n",
       " 'and',\n",
       " 'any',\n",
       " 'are',\n",
       " 'aren',\n",
       " \"aren't\",\n",
       " 'as',\n",
       " 'at',\n",
       " 'be',\n",
       " 'because',\n",
       " 'been',\n",
       " 'before',\n",
       " 'being',\n",
       " 'below',\n",
       " 'between',\n",
       " 'both',\n",
       " 'but',\n",
       " 'by',\n",
       " 'can',\n",
       " 'couldn',\n",
       " \"couldn't\",\n",
       " 'd',\n",
       " 'did',\n",
       " 'didn',\n",
       " \"didn't\",\n",
       " 'do',\n",
       " 'does',\n",
       " 'doesn',\n",
       " \"doesn't\",\n",
       " 'doing',\n",
       " 'don',\n",
       " \"don't\",\n",
       " 'down',\n",
       " 'during',\n",
       " 'each',\n",
       " 'few',\n",
       " 'for',\n",
       " 'from',\n",
       " 'further',\n",
       " 'had',\n",
       " 'hadn',\n",
       " \"hadn't\",\n",
       " 'has',\n",
       " 'hasn',\n",
       " \"hasn't\",\n",
       " 'have',\n",
       " 'haven',\n",
       " \"haven't\",\n",
       " 'having',\n",
       " 'he',\n",
       " 'her',\n",
       " 'here',\n",
       " 'hers',\n",
       " 'herself',\n",
       " 'him',\n",
       " 'himself',\n",
       " 'his',\n",
       " 'how',\n",
       " 'i',\n",
       " 'if',\n",
       " 'in',\n",
       " 'into',\n",
       " 'is',\n",
       " 'isn',\n",
       " \"isn't\",\n",
       " 'it',\n",
       " \"it's\",\n",
       " 'its',\n",
       " 'itself',\n",
       " 'just',\n",
       " 'll',\n",
       " 'm',\n",
       " 'ma',\n",
       " 'me',\n",
       " 'mightn',\n",
       " \"mightn't\",\n",
       " 'more',\n",
       " 'most',\n",
       " 'mustn',\n",
       " \"mustn't\",\n",
       " 'my',\n",
       " 'myself',\n",
       " 'needn',\n",
       " \"needn't\",\n",
       " 'no',\n",
       " 'nor',\n",
       " 'not',\n",
       " 'now',\n",
       " 'o',\n",
       " 'of',\n",
       " 'off',\n",
       " 'on',\n",
       " 'once',\n",
       " 'only',\n",
       " 'or',\n",
       " 'other',\n",
       " 'our',\n",
       " 'ours',\n",
       " 'ourselves',\n",
       " 'out',\n",
       " 'over',\n",
       " 'own',\n",
       " 're',\n",
       " 's',\n",
       " 'same',\n",
       " 'shan',\n",
       " \"shan't\",\n",
       " 'she',\n",
       " \"she's\",\n",
       " 'should',\n",
       " \"should've\",\n",
       " 'shouldn',\n",
       " \"shouldn't\",\n",
       " 'so',\n",
       " 'some',\n",
       " 'such',\n",
       " 't',\n",
       " 'than',\n",
       " 'that',\n",
       " \"that'll\",\n",
       " 'the',\n",
       " 'their',\n",
       " 'theirs',\n",
       " 'them',\n",
       " 'themselves',\n",
       " 'then',\n",
       " 'there',\n",
       " 'these',\n",
       " 'they',\n",
       " 'this',\n",
       " 'those',\n",
       " 'through',\n",
       " 'to',\n",
       " 'too',\n",
       " 'under',\n",
       " 'until',\n",
       " 'up',\n",
       " 've',\n",
       " 'very',\n",
       " 'was',\n",
       " 'wasn',\n",
       " \"wasn't\",\n",
       " 'we',\n",
       " 'were',\n",
       " 'weren',\n",
       " \"weren't\",\n",
       " 'what',\n",
       " 'when',\n",
       " 'where',\n",
       " 'which',\n",
       " 'while',\n",
       " 'who',\n",
       " 'whom',\n",
       " 'why',\n",
       " 'will',\n",
       " 'with',\n",
       " 'won',\n",
       " \"won't\",\n",
       " 'wouldn',\n",
       " \"wouldn't\",\n",
       " 'y',\n",
       " 'you',\n",
       " \"you'd\",\n",
       " \"you'll\",\n",
       " \"you're\",\n",
       " \"you've\",\n",
       " 'your',\n",
       " 'yours',\n",
       " 'yourself',\n",
       " 'yourselves'}"
      ]
     },
     "execution_count": 16,
     "metadata": {},
     "output_type": "execute_result"
    }
   ],
   "source": [
    "stop_words"
   ]
  },
  {
   "cell_type": "code",
   "execution_count": 17,
   "id": "b73ba3b2",
   "metadata": {},
   "outputs": [],
   "source": [
    "tokenize_word = word_tokenize(text)\n",
    "stopwords_cleaned = []\n",
    "\n",
    "for word in tokenize_word:\n",
    "    if word not in stop_words:\n",
    "        stopwords_cleaned.append(word)"
   ]
  },
  {
   "cell_type": "code",
   "execution_count": 18,
   "id": "8d260f07",
   "metadata": {},
   "outputs": [
    {
     "data": {
      "text/plain": [
       "['Sachin',\n",
       " 'GOAT',\n",
       " 'previous',\n",
       " 'generation',\n",
       " '.',\n",
       " 'virat',\n",
       " 'GOAT',\n",
       " 'generation',\n",
       " '.',\n",
       " 'Shubman',\n",
       " 'GOAT',\n",
       " 'next',\n",
       " 'Generation']"
      ]
     },
     "execution_count": 18,
     "metadata": {},
     "output_type": "execute_result"
    }
   ],
   "source": [
    "stopwords_cleaned"
   ]
  },
  {
   "cell_type": "markdown",
   "id": "10dd18cb",
   "metadata": {},
   "source": [
    "## steamming "
   ]
  },
  {
   "cell_type": "code",
   "execution_count": 19,
   "id": "eb003d1a",
   "metadata": {},
   "outputs": [],
   "source": [
    "from nltk.stem import PorterStemmer"
   ]
  },
  {
   "cell_type": "code",
   "execution_count": 20,
   "id": "c20e5484",
   "metadata": {},
   "outputs": [],
   "source": [
    "stemmer = PorterStemmer()"
   ]
  },
  {
   "cell_type": "code",
   "execution_count": 21,
   "id": "03cd0d57",
   "metadata": {},
   "outputs": [],
   "source": [
    "tokenize_word = word_tokenize(text)\n",
    "stem_words = []\n",
    "\n",
    "for word in tokenize_word:\n",
    "    stem_word = stemmer.stem(word)\n",
    "    stem_words.append(stem_word)"
   ]
  },
  {
   "cell_type": "code",
   "execution_count": 29,
   "id": "0565669b",
   "metadata": {},
   "outputs": [
    {
     "data": {
      "text/plain": [
       "['sachin',\n",
       " 'wa',\n",
       " 'the',\n",
       " 'goat',\n",
       " 'of',\n",
       " 'the',\n",
       " 'previou',\n",
       " 'gener',\n",
       " '.',\n",
       " 'virat',\n",
       " 'is',\n",
       " 'the',\n",
       " 'goat',\n",
       " 'of',\n",
       " 'thi',\n",
       " 'gener',\n",
       " '.',\n",
       " 'shubman',\n",
       " 'will',\n",
       " 'be',\n",
       " 'the',\n",
       " 'goat',\n",
       " 'of',\n",
       " 'next',\n",
       " 'gener']"
      ]
     },
     "execution_count": 29,
     "metadata": {},
     "output_type": "execute_result"
    }
   ],
   "source": [
    "stem_words"
   ]
  },
  {
   "cell_type": "markdown",
   "id": "62805577-4935-46c9-a3c2-cfb3c571e399",
   "metadata": {},
   "source": [
    "## Lemmatization"
   ]
  },
  {
   "cell_type": "code",
   "execution_count": 37,
   "id": "797beb9d-a3cd-4b83-bdca-c196b4662bfc",
   "metadata": {},
   "outputs": [],
   "source": [
    "from nltk.stem import WordNetLemmatizer"
   ]
  },
  {
   "cell_type": "code",
   "execution_count": 40,
   "id": "57a299e8-1973-4910-8b2e-c6da4a6324fe",
   "metadata": {},
   "outputs": [],
   "source": [
    "lemmatizer = WordNetLemmatizer()"
   ]
  },
  {
   "cell_type": "code",
   "execution_count": 44,
   "id": "dfab592b-e444-4737-80f2-851c4db4bddd",
   "metadata": {},
   "outputs": [
    {
     "name": "stdout",
     "output_type": "stream",
     "text": [
      "['Sachin', 'wa', 'the', 'GOAT', 'of', 'the', 'previous', 'generation', '.', 'virat', 'is', 'the', 'GOAT', 'of', 'this', 'generation', '.', 'Shubman', 'will', 'be', 'the', 'GOAT', 'of', 'next', 'Generation']\n"
     ]
    }
   ],
   "source": [
    "lemmatizer_tokens = []\n",
    "for token in tokenize_word:\n",
    "    lemmatized = lemmatizer.lemmatize(token)\n",
    "    lemmatizer_tokens.append(lemmatized)\n",
    "print(lemmatizer_tokens)"
   ]
  },
  {
   "cell_type": "markdown",
   "id": "01674816",
   "metadata": {},
   "source": [
    "## TFIDF"
   ]
  },
  {
   "cell_type": "code",
   "execution_count": 23,
   "id": "fabe6263",
   "metadata": {},
   "outputs": [],
   "source": [
    "from sklearn.feature_extraction.text import TfidfVectorizer"
   ]
  },
  {
   "cell_type": "code",
   "execution_count": 24,
   "id": "0000d38e",
   "metadata": {},
   "outputs": [],
   "source": [
    "Vectorizer = TfidfVectorizer()"
   ]
  },
  {
   "cell_type": "code",
   "execution_count": 25,
   "id": "318256a7",
   "metadata": {},
   "outputs": [],
   "source": [
    "text =  [\"Sachin was the GOAT of the previous generation.\", \n",
    "        \"virat is the GOAT of this generation.\",\n",
    "        \"Shubman will be the GOAT of next Generation\"]"
   ]
  },
  {
   "cell_type": "code",
   "execution_count": 26,
   "id": "7d6ab5b5",
   "metadata": {},
   "outputs": [
    {
     "data": {
      "text/plain": [
       "{'sachin': 7,\n",
       " 'was': 12,\n",
       " 'the': 9,\n",
       " 'goat': 2,\n",
       " 'of': 5,\n",
       " 'previous': 6,\n",
       " 'generation': 1,\n",
       " 'virat': 11,\n",
       " 'is': 3,\n",
       " 'this': 10,\n",
       " 'shubman': 8,\n",
       " 'will': 13,\n",
       " 'be': 0,\n",
       " 'next': 4}"
      ]
     },
     "execution_count": 26,
     "metadata": {},
     "output_type": "execute_result"
    }
   ],
   "source": [
    "matrix = Vectorizer.fit(text)\n",
    "matrix.vocabulary_"
   ]
  },
  {
   "cell_type": "code",
   "execution_count": 27,
   "id": "dc9477c3",
   "metadata": {},
   "outputs": [],
   "source": [
    "TfidfMatrix = Vectorizer.transform(text)"
   ]
  },
  {
   "cell_type": "code",
   "execution_count": 28,
   "id": "67334cd5",
   "metadata": {},
   "outputs": [
    {
     "name": "stdout",
     "output_type": "stream",
     "text": [
      "  (0, 12)\t0.4286758743128819\n",
      "  (0, 9)\t0.5063657539459899\n",
      "  (0, 7)\t0.4286758743128819\n",
      "  (0, 6)\t0.4286758743128819\n",
      "  (0, 5)\t0.25318287697299496\n",
      "  (0, 2)\t0.25318287697299496\n",
      "  (0, 1)\t0.25318287697299496\n",
      "  (1, 11)\t0.47698559825514686\n",
      "  (1, 10)\t0.47698559825514686\n",
      "  (1, 9)\t0.28171537816186876\n",
      "  (1, 5)\t0.28171537816186876\n",
      "  (1, 3)\t0.47698559825514686\n",
      "  (1, 2)\t0.28171537816186876\n",
      "  (1, 1)\t0.28171537816186876\n",
      "  (2, 13)\t0.4305184979719882\n",
      "  (2, 9)\t0.25427116018916335\n",
      "  (2, 8)\t0.4305184979719882\n",
      "  (2, 5)\t0.25427116018916335\n",
      "  (2, 4)\t0.4305184979719882\n",
      "  (2, 2)\t0.25427116018916335\n",
      "  (2, 1)\t0.25427116018916335\n",
      "  (2, 0)\t0.4305184979719882\n"
     ]
    }
   ],
   "source": [
    "print(TfidfMatrix)"
   ]
  },
  {
   "cell_type": "code",
   "execution_count": null,
   "id": "fc2f7c3f-a02d-4e37-a09c-56f84a6d5396",
   "metadata": {},
   "outputs": [],
   "source": []
  }
 ],
 "metadata": {
  "kernelspec": {
   "display_name": "Python 3 (ipykernel)",
   "language": "python",
   "name": "python3"
  },
  "language_info": {
   "codemirror_mode": {
    "name": "ipython",
    "version": 3
   },
   "file_extension": ".py",
   "mimetype": "text/x-python",
   "name": "python",
   "nbconvert_exporter": "python",
   "pygments_lexer": "ipython3",
   "version": "3.11.7"
  }
 },
 "nbformat": 4,
 "nbformat_minor": 5
}
